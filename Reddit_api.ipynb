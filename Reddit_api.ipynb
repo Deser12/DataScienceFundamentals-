{
 "cells": [
  {
   "cell_type": "code",
   "execution_count": 36,
   "metadata": {},
   "outputs": [],
   "source": [
    "import praw\n",
    "import pandas as pd\n",
    "import json\n"
   ]
  },
  {
   "cell_type": "code",
   "execution_count": 12,
   "metadata": {},
   "outputs": [],
   "source": [
    "CLIENT_ID = \"MBV19yHIIq7ecA\"\n",
    "CLIENT_SECRET = input(\"CLIENT_SECRET_HERE\")\n",
    "USER_AGENT = f\"python:{CLIENT_ID}:0.1 (by /u/Deser2018)\""
   ]
  },
  {
   "cell_type": "code",
   "execution_count": 13,
   "metadata": {},
   "outputs": [],
   "source": [
    "api = praw.Reddit(\n",
    "    client_id = CLIENT_ID,\n",
    "    client_secret = CLIENT_SECRET,\n",
    "    user_agent = USER_AGENT\n",
    ")"
   ]
  },
  {
   "cell_type": "code",
   "execution_count": 14,
   "metadata": {},
   "outputs": [
    {
     "data": {
      "text/plain": [
       "True"
      ]
     },
     "execution_count": 14,
     "metadata": {},
     "output_type": "execute_result"
    }
   ],
   "source": [
    "api.read_only"
   ]
  },
  {
   "cell_type": "code",
   "execution_count": 25,
   "metadata": {},
   "outputs": [],
   "source": [
    "submissions = api.subreddit('askreddit').hot(limit = 10)"
   ]
  },
  {
   "cell_type": "code",
   "execution_count": 26,
   "metadata": {},
   "outputs": [
    {
     "data": {
      "text/plain": [
       "<praw.models.listing.generator.ListingGenerator at 0x10c1922e8>"
      ]
     },
     "execution_count": 26,
     "metadata": {},
     "output_type": "execute_result"
    }
   ],
   "source": [
    "submissions"
   ]
  },
  {
   "cell_type": "code",
   "execution_count": 27,
   "metadata": {},
   "outputs": [
    {
     "data": {
      "text/plain": [
       "[{'title': 'What was the cringiest thing you did in your first relationship?',\n",
       "  'score': 25188,\n",
       "  'comments': 10196},\n",
       " {'title': 'What’s the dumbest thing you’ve heard someone say that made you wonder how they function on a day to day basis?',\n",
       "  'score': 50692,\n",
       "  'comments': 28766},\n",
       " {'title': 'What is something that HAS aged well?',\n",
       "  'score': 5127,\n",
       "  'comments': 6150},\n",
       " {'title': 'What have we all conveniently forgotten about?',\n",
       "  'score': 5062,\n",
       "  'comments': 4820},\n",
       " {'title': 'What made you laugh the hardest in your entire life?',\n",
       "  'score': 7733,\n",
       "  'comments': 3773},\n",
       " {'title': 'What is the worst thing to cheap out on?',\n",
       "  'score': 474,\n",
       "  'comments': 711},\n",
       " {'title': \"What's an experience you don't ever want to go through again?\",\n",
       "  'score': 4881,\n",
       "  'comments': 4777},\n",
       " {'title': \"Men of reddit, what do women do that they think is sexy, but actually isn't?\",\n",
       "  'score': 533,\n",
       "  'comments': 1304},\n",
       " {'title': 'What benefits did you notice after losing weight?',\n",
       "  'score': 1549,\n",
       "  'comments': 1275},\n",
       " {'title': \"What is the most physically painful thing you've ever gone through?\",\n",
       "  'score': 226,\n",
       "  'comments': 610}]"
      ]
     },
     "execution_count": 27,
     "metadata": {},
     "output_type": "execute_result"
    }
   ],
   "source": [
    "submission_list = []\n",
    "for sub in submissions:\n",
    "    item = {\n",
    "        \"title\" : sub.title,\n",
    "        \"score\" : sub.score,\n",
    "        \"comments\" : sub.num_comments\n",
    "    }\n",
    "    submission_list.append(item)\n",
    "\n",
    "submission_list"
   ]
  },
  {
   "cell_type": "code",
   "execution_count": 33,
   "metadata": {},
   "outputs": [
    {
     "data": {
      "text/html": [
       "<div>\n",
       "<style scoped>\n",
       "    .dataframe tbody tr th:only-of-type {\n",
       "        vertical-align: middle;\n",
       "    }\n",
       "\n",
       "    .dataframe tbody tr th {\n",
       "        vertical-align: top;\n",
       "    }\n",
       "\n",
       "    .dataframe thead th {\n",
       "        text-align: right;\n",
       "    }\n",
       "</style>\n",
       "<table border=\"1\" class=\"dataframe\">\n",
       "  <thead>\n",
       "    <tr style=\"text-align: right;\">\n",
       "      <th></th>\n",
       "      <th>comments</th>\n",
       "      <th>score</th>\n",
       "      <th>title</th>\n",
       "    </tr>\n",
       "  </thead>\n",
       "  <tbody>\n",
       "    <tr>\n",
       "      <th>0</th>\n",
       "      <td>10196</td>\n",
       "      <td>25188</td>\n",
       "      <td>What was the cringiest thing you did in your f...</td>\n",
       "    </tr>\n",
       "    <tr>\n",
       "      <th>1</th>\n",
       "      <td>28766</td>\n",
       "      <td>50692</td>\n",
       "      <td>What’s the dumbest thing you’ve heard someone ...</td>\n",
       "    </tr>\n",
       "    <tr>\n",
       "      <th>2</th>\n",
       "      <td>6150</td>\n",
       "      <td>5127</td>\n",
       "      <td>What is something that HAS aged well?</td>\n",
       "    </tr>\n",
       "    <tr>\n",
       "      <th>3</th>\n",
       "      <td>4820</td>\n",
       "      <td>5062</td>\n",
       "      <td>What have we all conveniently forgotten about?</td>\n",
       "    </tr>\n",
       "    <tr>\n",
       "      <th>4</th>\n",
       "      <td>3773</td>\n",
       "      <td>7733</td>\n",
       "      <td>What made you laugh the hardest in your entire...</td>\n",
       "    </tr>\n",
       "    <tr>\n",
       "      <th>5</th>\n",
       "      <td>711</td>\n",
       "      <td>474</td>\n",
       "      <td>What is the worst thing to cheap out on?</td>\n",
       "    </tr>\n",
       "    <tr>\n",
       "      <th>6</th>\n",
       "      <td>4777</td>\n",
       "      <td>4881</td>\n",
       "      <td>What's an experience you don't ever want to go...</td>\n",
       "    </tr>\n",
       "    <tr>\n",
       "      <th>7</th>\n",
       "      <td>1304</td>\n",
       "      <td>533</td>\n",
       "      <td>Men of reddit, what do women do that they thin...</td>\n",
       "    </tr>\n",
       "    <tr>\n",
       "      <th>8</th>\n",
       "      <td>1275</td>\n",
       "      <td>1549</td>\n",
       "      <td>What benefits did you notice after losing weight?</td>\n",
       "    </tr>\n",
       "    <tr>\n",
       "      <th>9</th>\n",
       "      <td>610</td>\n",
       "      <td>226</td>\n",
       "      <td>What is the most physically painful thing you'...</td>\n",
       "    </tr>\n",
       "  </tbody>\n",
       "</table>\n",
       "</div>"
      ],
      "text/plain": [
       "   comments  score                                              title\n",
       "0     10196  25188  What was the cringiest thing you did in your f...\n",
       "1     28766  50692  What’s the dumbest thing you’ve heard someone ...\n",
       "2      6150   5127              What is something that HAS aged well?\n",
       "3      4820   5062     What have we all conveniently forgotten about?\n",
       "4      3773   7733  What made you laugh the hardest in your entire...\n",
       "5       711    474           What is the worst thing to cheap out on?\n",
       "6      4777   4881  What's an experience you don't ever want to go...\n",
       "7      1304    533  Men of reddit, what do women do that they thin...\n",
       "8      1275   1549  What benefits did you notice after losing weight?\n",
       "9       610    226  What is the most physically painful thing you'..."
      ]
     },
     "execution_count": 33,
     "metadata": {},
     "output_type": "execute_result"
    }
   ],
   "source": [
    "df = pd.DataFrame(submission_list)\n",
    "df"
   ]
  },
  {
   "cell_type": "code",
   "execution_count": 43,
   "metadata": {},
   "outputs": [],
   "source": [
    "df.to_json(\"test.json\")"
   ]
  },
  {
   "cell_type": "code",
   "execution_count": null,
   "metadata": {},
   "outputs": [],
   "source": []
  }
 ],
 "metadata": {
  "kernelspec": {
   "display_name": "Python 3",
   "language": "python",
   "name": "python3"
  },
  "language_info": {
   "codemirror_mode": {
    "name": "ipython",
    "version": 3
   },
   "file_extension": ".py",
   "mimetype": "text/x-python",
   "name": "python",
   "nbconvert_exporter": "python",
   "pygments_lexer": "ipython3",
   "version": "3.6.5"
  }
 },
 "nbformat": 4,
 "nbformat_minor": 2
}
